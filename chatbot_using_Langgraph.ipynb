{
 "cells": [
  {
   "cell_type": "markdown",
   "metadata": {},
   "source": [
    "### Implementing simple Chatbot Using LangGraph"
   ]
  },
  {
   "cell_type": "code",
   "execution_count": 3,
   "metadata": {},
   "outputs": [],
   "source": [
    "from typing_extensions import TypedDict\n",
    "from langgraph.graph import START,END,StateGraph\n",
    "\n",
    "#reducers\n",
    "from typing import Annotated\n",
    "from langgraph.graph.message import add_messages\n"
   ]
  },
  {
   "cell_type": "code",
   "execution_count": 4,
   "metadata": {},
   "outputs": [],
   "source": [
    "class State(TypedDict):\n",
    "    messages:Annotated[list,add_messages]"
   ]
  },
  {
   "cell_type": "code",
   "execution_count": 23,
   "metadata": {},
   "outputs": [],
   "source": [
    "import os\n",
    "from dotenv import load_dotenv\n",
    "load_dotenv()\n",
    "\n",
    "os.environ[\"OPENAI_API_KEY\"]=os.getenv(\"OPENAI_API_KEY\")\n",
    "os.environ[\"GROQ_API_KEY\"]=os.getenv(\"GROQ_API_KEY\")"
   ]
  },
  {
   "cell_type": "code",
   "execution_count": 13,
   "metadata": {},
   "outputs": [
    {
     "data": {
      "text/plain": [
       "AIMessage(content='Hello! How can I assist you today?', additional_kwargs={'refusal': None}, response_metadata={'token_usage': {'completion_tokens': 9, 'prompt_tokens': 8, 'total_tokens': 17, 'completion_tokens_details': {'accepted_prediction_tokens': 0, 'audio_tokens': 0, 'reasoning_tokens': 0, 'rejected_prediction_tokens': 0}, 'prompt_tokens_details': {'audio_tokens': 0, 'cached_tokens': 0}}, 'model_name': 'gpt-4o-2024-08-06', 'system_fingerprint': 'fp_07871e2ad8', 'id': 'chatcmpl-BjTeipfvHimxRn1JskwruqQh0bMV6', 'service_tier': 'default', 'finish_reason': 'stop', 'logprobs': None}, id='run--c345b43a-e352-4bdf-960e-3d29d6b35866-0', usage_metadata={'input_tokens': 8, 'output_tokens': 9, 'total_tokens': 17, 'input_token_details': {'audio': 0, 'cache_read': 0}, 'output_token_details': {'audio': 0, 'reasoning': 0}})"
      ]
     },
     "execution_count": 13,
     "metadata": {},
     "output_type": "execute_result"
    }
   ],
   "source": [
    "from langchain_openai import ChatOpenAI\n",
    "llm=ChatOpenAI(model=\"gpt-4o\")\n",
    "llm.invoke(\"Hello\")"
   ]
  },
  {
   "cell_type": "code",
   "execution_count": 29,
   "metadata": {},
   "outputs": [
    {
     "data": {
      "text/plain": [
       "AIMessage(content=\"That's great, Iqra! Cricket is a fantastic sport. 🏏\\n\\nDo you play any particular position?  Who is your favorite cricket team or player? 😊  \\n\\n\", additional_kwargs={}, response_metadata={'token_usage': {'completion_tokens': 40, 'prompt_tokens': 20, 'total_tokens': 60, 'completion_time': 0.072727273, 'prompt_time': 0.00186323, 'queue_time': 0.239384658, 'total_time': 0.074590503}, 'model_name': 'gemma2-9b-it', 'system_fingerprint': 'fp_10c08bf97d', 'finish_reason': 'stop', 'logprobs': None}, id='run--d4b75724-e258-4c55-8bfe-9aa64a7bc3bf-0', usage_metadata={'input_tokens': 20, 'output_tokens': 40, 'total_tokens': 60})"
      ]
     },
     "execution_count": 29,
     "metadata": {},
     "output_type": "execute_result"
    }
   ],
   "source": [
    "from langchain_groq import ChatGroq\n",
    "\n",
    "llm_groq=ChatGroq(model=\"gemma2-9b-it\",groq_api_key=\"")\n",
    "llm_groq.invoke(\"Hey I am iqra and i like to play cricket\")"
   ]
  },
  {
   "cell_type": "markdown",
   "metadata": {},
   "source": [
    "### Creating Nodes"
   ]
  },
  {
   "cell_type": "code",
   "execution_count": 30,
   "metadata": {},
   "outputs": [],
   "source": [
    "def superbot(state:State):\n",
    "    return {\"messages\":[llm_groq.invoke(state['messages'])]}"
   ]
  },
  {
   "cell_type": "code",
   "execution_count": 32,
   "metadata": {},
   "outputs": [
    {
     "data": {
      "image/png": "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",
      "text/plain": [
       "<IPython.core.display.Image object>"
      ]
     },
     "metadata": {},
     "output_type": "display_data"
    }
   ],
   "source": [
    "graph = StateGraph(State)\n",
    "\n",
    "graph.add_node(\"Superbot\",superbot)\n",
    "\n",
    "graph.add_edge(START,\"Superbot\")\n",
    "graph.add_edge(\"Superbot\",END)\n",
    "\n",
    "graph_builder=graph.compile()\n",
    "\n",
    "## Display\n",
    "from IPython.display import Image, display\n",
    "display(Image(graph_builder.get_graph().draw_mermaid_png()))\n"
   ]
  },
  {
   "cell_type": "code",
   "execution_count": 34,
   "metadata": {},
   "outputs": [
    {
     "data": {
      "text/plain": [
       "{'messages': [HumanMessage(content='Hi, My name is iqra and I like cricket', additional_kwargs={}, response_metadata={}, id='3519da5a-5f54-4fb7-bc35-60d6e8a5ca9b'),\n",
       "  AIMessage(content=\"Hi Iqra!\\n\\nIt's great to meet you! Cricket is a fantastic sport. 🏏\\n\\nWhat do you like most about it?  Do you have a favorite team or player? 😊 \\n\\n\", additional_kwargs={}, response_metadata={'token_usage': {'completion_tokens': 46, 'prompt_tokens': 20, 'total_tokens': 66, 'completion_time': 0.083636364, 'prompt_time': 0.001870449, 'queue_time': 0.239724967, 'total_time': 0.085506813}, 'model_name': 'gemma2-9b-it', 'system_fingerprint': 'fp_10c08bf97d', 'finish_reason': 'stop', 'logprobs': None}, id='run--2964ee12-657d-4d7a-8627-b6f08fdbf67e-0', usage_metadata={'input_tokens': 20, 'output_tokens': 46, 'total_tokens': 66})]}"
      ]
     },
     "execution_count": 34,
     "metadata": {},
     "output_type": "execute_result"
    }
   ],
   "source": [
    "graph_builder.invoke({'messages':\"Hi, My name is iqra and I like cricket\"})"
   ]
  },
  {
   "cell_type": "code",
   "execution_count": 38,
   "metadata": {},
   "outputs": [
    {
     "name": "stdout",
     "output_type": "stream",
     "text": [
      "{'messages': [HumanMessage(content='Hello My name is Iqra', additional_kwargs={}, response_metadata={}, id='407b9c6d-5f08-459e-9755-64c5767e2bde')]}\n",
      "{'messages': [HumanMessage(content='Hello My name is Iqra', additional_kwargs={}, response_metadata={}, id='407b9c6d-5f08-459e-9755-64c5767e2bde'), AIMessage(content=\"Hello Iqra, it's nice to meet you! 😊 \\n\\nWhat can I do for you today?\\n\", additional_kwargs={}, response_metadata={'token_usage': {'completion_tokens': 26, 'prompt_tokens': 15, 'total_tokens': 41, 'completion_time': 0.047272727, 'prompt_time': 0.00190836, 'queue_time': 0.23961374800000002, 'total_time': 0.049181087}, 'model_name': 'gemma2-9b-it', 'system_fingerprint': 'fp_10c08bf97d', 'finish_reason': 'stop', 'logprobs': None}, id='run--e9ab2eb2-d910-4598-bd2e-6085ca6330b0-0', usage_metadata={'input_tokens': 15, 'output_tokens': 26, 'total_tokens': 41})]}\n"
     ]
    }
   ],
   "source": [
    "for event in graph_builder.stream({\"messages\":\"Hello My name is Iqra\"},stream_mode=\"values\"):\n",
    "    print(event)"
   ]
  }
 ],
 "metadata": {
  "kernelspec": {
   "display_name": "Python 3",
   "language": "python",
   "name": "python3"
  },
  "language_info": {
   "codemirror_mode": {
    "name": "ipython",
    "version": 3
   },
   "file_extension": ".py",
   "mimetype": "text/x-python",
   "name": "python",
   "nbconvert_exporter": "python",
   "pygments_lexer": "ipython3",
   "version": "3.10.0"
  }
 },
 "nbformat": 4,
 "nbformat_minor": 2
}
